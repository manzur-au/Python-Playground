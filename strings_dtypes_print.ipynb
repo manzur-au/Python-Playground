{
 "cells": [
  {
   "cell_type": "markdown",
   "metadata": {},
   "source": [
    "### Lets see different printing options"
   ]
  },
  {
   "cell_type": "code",
   "execution_count": 4,
   "metadata": {},
   "outputs": [
    {
     "name": "stdout",
     "output_type": "stream",
     "text": [
      "My first name is manzur and last name is islam.\n",
      "My first name is manzur and last name is islam.\n"
     ]
    }
   ],
   "source": [
    "fname = 'manzur'\n",
    "lname = 'islam'\n",
    "\n",
    "# Careful about the order\n",
    "print(\"My first name is {} and last name is {}.\" . format(fname,lname))\n",
    "\n",
    "# Safe ordering\n",
    "print(\"My first name is {first} and last name is {last}.\" . format(last=lname,first=fname))\n"
   ]
  },
  {
   "cell_type": "code",
   "execution_count": null,
   "metadata": {},
   "outputs": [],
   "source": []
  }
 ],
 "metadata": {
  "kernelspec": {
   "display_name": "Python 3",
   "language": "python",
   "name": "python3"
  },
  "language_info": {
   "codemirror_mode": {
    "name": "ipython",
    "version": 3
   },
   "file_extension": ".py",
   "mimetype": "text/x-python",
   "name": "python",
   "nbconvert_exporter": "python",
   "pygments_lexer": "ipython3",
   "version": "3.7.6"
  }
 },
 "nbformat": 4,
 "nbformat_minor": 4
}
